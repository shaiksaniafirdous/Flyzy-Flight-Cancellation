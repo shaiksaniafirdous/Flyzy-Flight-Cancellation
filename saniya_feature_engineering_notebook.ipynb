{
 "cells": [
  {
   "cell_type": "code",
   "execution_count": 1,
   "id": "567a4e4c-67c2-496d-8e03-873a4520fd68",
   "metadata": {},
   "outputs": [
    {
     "name": "stdout",
     "output_type": "stream",
     "text": [
      "Model Evaluation:\n",
      "Accuracy: 0.8095\n",
      "Precision: 0.8364\n",
      "Recall: 0.8985\n",
      "F1-Score: 0.8663\n",
      "\n",
      "Detailed Classification Report:\n",
      "\n",
      "              precision    recall  f1-score   support\n",
      "\n",
      "           0       0.73      0.61      0.67       184\n",
      "           1       0.84      0.90      0.87       404\n",
      "\n",
      "    accuracy                           0.81       588\n",
      "   macro avg       0.79      0.76      0.77       588\n",
      "weighted avg       0.80      0.81      0.80       588\n",
      "\n"
     ]
    }
   ],
   "source": [
    "import pandas as pd\n",
    "from sklearn.model_selection import train_test_split\n",
    "from sklearn.preprocessing import LabelEncoder, StandardScaler\n",
    "from sklearn.linear_model import LogisticRegression\n",
    "from sklearn.metrics import accuracy_score, precision_score, recall_score, f1_score, classification_report\n",
    "\n",
    "# Step 1: Load the Cleaned Data\n",
    "df = pd.read_csv(r\"C:\\Users\\Saniya Firdous\\Desktop\\Belong\\Saniya_data_cleaned_preprocessed.csv\")\n",
    "\n",
    "# Step 2: Split Features and Target\n",
    "target_column = 'Flight_Cancelled'  # Replace with your actual target column\n",
    "X = df.drop(target_column, axis=1)\n",
    "y = df[target_column]\n",
    "\n",
    "# Step 3: Encode Categorical Variables\n",
    "categorical_cols = X.select_dtypes(include=['object']).columns\n",
    "\n",
    "label_encoders = {}\n",
    "for col in categorical_cols:\n",
    "    le = LabelEncoder()\n",
    "    X[col] = le.fit_transform(X[col])\n",
    "    label_encoders[col] = le  # Store encoder if needed for inverse transform\n",
    "\n",
    "# Step 4: Feature Scaling\n",
    "scaler = StandardScaler()\n",
    "X_scaled = scaler.fit_transform(X)\n",
    "\n",
    "# Step 5: Split the Data\n",
    "X_train, X_test, y_train, y_test = train_test_split(X_scaled, y, test_size=0.2, random_state=42)\n",
    "\n",
    "# Step 6: Model Building (Logistic Regression)\n",
    "logreg = LogisticRegression()\n",
    "logreg.fit(X_train, y_train)\n",
    "\n",
    "# Step 7: Make Predictions\n",
    "y_pred = logreg.predict(X_test)\n",
    "\n",
    "# Step 8: Model Evaluation\n",
    "accuracy = accuracy_score(y_test, y_pred)\n",
    "precision = precision_score(y_test, y_pred, zero_division=0)\n",
    "recall = recall_score(y_test, y_pred, zero_division=0)\n",
    "f1 = f1_score(y_test, y_pred, zero_division=0)\n",
    "\n",
    "# Step 9: Print Evaluation Metrics\n",
    "print(\"Model Evaluation:\")\n",
    "print(f\"Accuracy: {accuracy:.4f}\")\n",
    "print(f\"Precision: {precision:.4f}\")\n",
    "print(f\"Recall: {recall:.4f}\")\n",
    "print(f\"F1-Score: {f1:.4f}\")\n",
    "print(\"\\nDetailed Classification Report:\\n\")\n",
    "print(classification_report(y_test, y_pred, zero_division=0))\n"
   ]
  },
  {
   "cell_type": "code",
   "execution_count": null,
   "id": "c42adf0d-8f35-4a5c-8558-60a033e86cab",
   "metadata": {},
   "outputs": [],
   "source": []
  }
 ],
 "metadata": {
  "kernelspec": {
   "display_name": "Python 3 (ipykernel)",
   "language": "python",
   "name": "python3"
  },
  "language_info": {
   "codemirror_mode": {
    "name": "ipython",
    "version": 3
   },
   "file_extension": ".py",
   "mimetype": "text/x-python",
   "name": "python",
   "nbconvert_exporter": "python",
   "pygments_lexer": "ipython3",
   "version": "3.12.4"
  }
 },
 "nbformat": 4,
 "nbformat_minor": 5
}
